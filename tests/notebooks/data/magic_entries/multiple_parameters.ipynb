{
 "cells": [
  {
   "cell_type": "code",
   "execution_count": null,
   "id": "f113208e",
   "metadata": {},
   "outputs": [],
   "source": [
    "import nbvalx"
   ]
  },
  {
   "cell_type": "code",
   "execution_count": null,
   "id": "ac9fa906",
   "metadata": {},
   "outputs": [],
   "source": [
    "%load_ext nbvalx"
   ]
  },
  {
   "cell_type": "code",
   "execution_count": null,
   "id": "129ae24e",
   "metadata": {},
   "outputs": [],
   "source": [
    "%%register_allowed_parameters\n",
    "str_parameter: 'value1', \"value2\"\n",
    "int_parameter: 1, 2"
   ]
  },
  {
   "cell_type": "code",
   "execution_count": null,
   "id": "3ff2d7c9",
   "metadata": {},
   "outputs": [],
   "source": [
    "%%register_current_parameters\n",
    "str_parameter = \"value1\"\n",
    "int_parameter = 2"
   ]
  },
  {
   "cell_type": "code",
   "execution_count": null,
   "id": "0762b137",
   "metadata": {},
   "outputs": [],
   "source": [
    "if str_parameter == \"value\" + str(int_parameter):\n",
    "    comment = \"str_parameter and int_parameter have some integer\"\n",
    "else:\n",
    "    comment = \"str_parameter and int_parameter have different integer\""
   ]
  },
  {
   "cell_type": "code",
   "execution_count": null,
   "id": "9ee4e110",
   "metadata": {},
   "outputs": [],
   "source": [
    "__notebook_basename__ = \"multiple_parameters.ipynb\"\n",
    "__notebook_dirname__ = \"\""
   ]
  },
  {
   "cell_type": "code",
   "execution_count": null,
   "id": "18bdca33",
   "metadata": {},
   "outputs": [],
   "source": [
    "if \"collapse_True\" in __notebook_dirname__:\n",
    "    assert not nbvalx.jupyter_magics.IPythonExtension.loaded\n",
    "else:\n",
    "    assert nbvalx.jupyter_magics.IPythonExtension.loaded"
   ]
  },
  {
   "cell_type": "code",
   "execution_count": null,
   "id": "297adb22",
   "metadata": {},
   "outputs": [],
   "source": [
    "if nbvalx.jupyter_magics.IPythonExtension.loaded:\n",
    "    current_parameters = nbvalx.jupyter_magics.IPythonExtension.current_parameters\n",
    "    if current_parameters[\"str_parameter\"][-1] == str(current_parameters[\"int_parameter\"]):  # type: ignore[index]\n",
    "        assert comment == \"str_parameter and int_parameter have some integer\"\n",
    "    else:\n",
    "        assert comment == \"str_parameter and int_parameter have different integer\"\n",
    "else:\n",
    "    if (\n",
    "        \"[str_parameter=value1,int_parameter=1]\" in __notebook_basename__\n",
    "        or \"[str_parameter=value2,int_parameter=2]\" in __notebook_basename__\n",
    "    ):\n",
    "        assert comment == \"str_parameter and int_parameter have some integer\"\n",
    "    elif (\n",
    "        \"[str_parameter=value1,int_parameter=2]\" in __notebook_basename__\n",
    "        or \"[str_parameter=value2,int_parameter=1]\" in __notebook_basename__\n",
    "    ):\n",
    "        assert comment == \"str_parameter and int_parameter have different integer\"\n",
    "    else:\n",
    "        assert comment == \"str_parameter and int_parameter have different integer\"\n",
    "    assert nbvalx.jupyter_magics.IPythonExtension.current_parameters == {}"
   ]
  }
 ],
 "metadata": {
  "kernelspec": {
   "display_name": "Python 3 (ipykernel)",
   "language": "python",
   "name": "python3"
  },
  "language_info": {
   "codemirror_mode": {
    "name": "ipython"
   },
   "file_extension": ".py",
   "mimetype": "text/x-python",
   "name": "python",
   "nbconvert_exporter": "python"
  }
 },
 "nbformat": 4,
 "nbformat_minor": 5
}
