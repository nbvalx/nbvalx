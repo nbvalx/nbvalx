{
 "cells": [
  {
   "cell_type": "code",
   "execution_count": null,
   "id": "ac57659e",
   "metadata": {},
   "outputs": [],
   "source": [
    "import nbvalx"
   ]
  },
  {
   "cell_type": "code",
   "execution_count": null,
   "id": "84449a04",
   "metadata": {},
   "outputs": [],
   "source": [
    "%load_ext nbvalx"
   ]
  },
  {
   "cell_type": "code",
   "execution_count": null,
   "id": "33c0102c",
   "metadata": {},
   "outputs": [],
   "source": [
    "%%register_run_if_allowed_tags\n",
    "str_tag: 'value1', \"value2\""
   ]
  },
  {
   "cell_type": "code",
   "execution_count": null,
   "id": "8ae9e2c3-2039-4b3d-b0f2-e853fca1cd58",
   "metadata": {},
   "outputs": [],
   "source": [
    "%%register_allowed_parameters\n",
    "str_parameter: 'value3', \"value4\""
   ]
  },
  {
   "cell_type": "code",
   "execution_count": null,
   "id": "5ee01880",
   "metadata": {},
   "outputs": [],
   "source": [
    "%%register_run_if_current_tags\n",
    "str_tag = \"value1\""
   ]
  },
  {
   "cell_type": "code",
   "execution_count": null,
   "id": "0cff4be6-0439-43c4-ab62-9b44677aa89c",
   "metadata": {},
   "outputs": [],
   "source": [
    "%%register_current_parameters\n",
    "str_parameter = \"value3\""
   ]
  },
  {
   "cell_type": "code",
   "execution_count": null,
   "id": "7983e8de",
   "metadata": {},
   "outputs": [],
   "source": [
    "__notebook_basename__ = \"unused_magic_entries.ipynb\"\n",
    "__notebook_dirname__ = \"\""
   ]
  },
  {
   "cell_type": "code",
   "execution_count": null,
   "id": "ae3e88b5",
   "metadata": {},
   "outputs": [],
   "source": [
    "if \"collapse_True\" in __notebook_dirname__:\n",
    "    assert not nbvalx.jupyter_magics.IPythonExtension.loaded\n",
    "else:\n",
    "    assert nbvalx.jupyter_magics.IPythonExtension.loaded"
   ]
  },
  {
   "cell_type": "code",
   "execution_count": null,
   "id": "5ba43203",
   "metadata": {},
   "outputs": [],
   "source": [
    "if nbvalx.jupyter_magics.IPythonExtension.loaded:\n",
    "    assert nbvalx.jupyter_magics.IPythonExtension.allowed_tags == {\"str_tag\": [\"value1\", \"value2\"]}\n",
    "    assert nbvalx.jupyter_magics.IPythonExtension.allowed_parameters == {\"str_parameter\": [\"value3\", \"value4\"]}\n",
    "else:\n",
    "    assert nbvalx.jupyter_magics.IPythonExtension.allowed_tags == {}\n",
    "    assert nbvalx.jupyter_magics.IPythonExtension.allowed_parameters == {}"
   ]
  },
  {
   "cell_type": "code",
   "execution_count": null,
   "id": "f8d4f334",
   "metadata": {},
   "outputs": [],
   "source": [
    "if nbvalx.jupyter_magics.IPythonExtension.loaded:\n",
    "    if \"[str_tag=value1\" in __notebook_basename__:\n",
    "        assert nbvalx.jupyter_magics.IPythonExtension.current_tags == {\"str_tag\": \"value1\"}\n",
    "    elif \"[str_tag=value2\" in __notebook_basename__:\n",
    "        assert nbvalx.jupyter_magics.IPythonExtension.current_tags == {\"str_tag\": \"value2\"}\n",
    "    else:\n",
    "        assert nbvalx.jupyter_magics.IPythonExtension.current_tags == {\"str_tag\": \"value1\"}\n",
    "    if \"str_parameter=value3]\" in __notebook_basename__:\n",
    "        assert nbvalx.jupyter_magics.IPythonExtension.current_parameters == {\"str_parameter\": \"value3\"}\n",
    "    elif \"str_parameter=value4]\" in __notebook_basename__:\n",
    "        assert nbvalx.jupyter_magics.IPythonExtension.current_parameters == {\"str_parameter\": \"value4\"}\n",
    "    else:\n",
    "        assert nbvalx.jupyter_magics.IPythonExtension.current_parameters == {\"str_parameter\": \"value3\"}\n",
    "else:\n",
    "    assert nbvalx.jupyter_magics.IPythonExtension.current_tags == {}\n",
    "    assert nbvalx.jupyter_magics.IPythonExtension.current_parameters == {}"
   ]
  }
 ],
 "metadata": {
  "kernelspec": {
   "display_name": "Python 3 (ipykernel)",
   "language": "python",
   "name": "python3"
  },
  "language_info": {
   "codemirror_mode": {
    "name": "ipython"
   },
   "file_extension": ".py",
   "mimetype": "text/x-python",
   "name": "python",
   "nbconvert_exporter": "python"
  }
 },
 "nbformat": 4,
 "nbformat_minor": 5
}
