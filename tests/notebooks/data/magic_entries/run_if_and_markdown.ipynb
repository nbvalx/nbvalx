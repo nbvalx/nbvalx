{
 "cells": [
  {
   "cell_type": "code",
   "execution_count": null,
   "id": "55297027-f409-4cfe-a599-548ddaeca939",
   "metadata": {},
   "outputs": [],
   "source": [
    "import os"
   ]
  },
  {
   "cell_type": "code",
   "execution_count": null,
   "id": "9b2f1e64",
   "metadata": {},
   "outputs": [],
   "source": [
    "import nbvalx"
   ]
  },
  {
   "cell_type": "markdown",
   "id": "e4da1747",
   "metadata": {},
   "source": [
    "Load custom extension. This markdown cell will always be shown."
   ]
  },
  {
   "cell_type": "code",
   "execution_count": null,
   "id": "ac9fa906",
   "metadata": {},
   "outputs": [],
   "source": [
    "%load_ext nbvalx"
   ]
  },
  {
   "cell_type": "markdown",
   "id": "2d137c1f",
   "metadata": {},
   "source": [
    "Register tags. This markdown cell will always be shown."
   ]
  },
  {
   "cell_type": "code",
   "execution_count": null,
   "id": "129ae24e",
   "metadata": {},
   "outputs": [],
   "source": [
    "%%register_run_if_allowed_tags\n",
    "str_tag: 'value1', \"value2\""
   ]
  },
  {
   "cell_type": "code",
   "execution_count": null,
   "id": "3ff2d7c9",
   "metadata": {},
   "outputs": [],
   "source": [
    "%%register_run_if_current_tags\n",
    "str_tag = \"value1\""
   ]
  },
  {
   "cell_type": "markdown",
   "id": "5bdcf6ce",
   "metadata": {},
   "source": [
    "Update variable with run_if. This markdown cell will always be shown."
   ]
  },
  {
   "cell_type": "code",
   "execution_count": null,
   "id": "03ed92fc",
   "metadata": {},
   "outputs": [],
   "source": [
    "current_tag = \"\""
   ]
  },
  {
   "cell_type": "markdown",
   "id": "50c169b0-e1d2-4a71-a013-3d3faad0ed6a",
   "metadata": {},
   "source": [
    "<!-- keep_if str_tag == \"value1\" -->\n",
    "The next cell sets the value of current_tag to value1. If collapsing tags, this markdown cell is shown only when tag is equal to value1."
   ]
  },
  {
   "cell_type": "code",
   "execution_count": null,
   "id": "0762b137",
   "metadata": {},
   "outputs": [],
   "source": [
    "%%run_if str_tag == \"value1\"\n",
    "current_tag = \"value1\""
   ]
  },
  {
   "cell_type": "markdown",
   "id": "d7405362-fd07-4db0-bae3-4239feded91a",
   "metadata": {},
   "source": [
    "The next cell sets the value of current_tag to value2. If collapsing tags, this markdown cell is shown only when tag is equal to value2.\n",
    "<!-- keep_if str_tag == \"value2\" -->"
   ]
  },
  {
   "cell_type": "code",
   "execution_count": null,
   "id": "4bc5ebda",
   "metadata": {},
   "outputs": [],
   "source": [
    "%%run_if str_tag == \"value2\"\n",
    "current_tag = \"value2\""
   ]
  },
  {
   "cell_type": "markdown",
   "id": "4f08bdf8",
   "metadata": {},
   "source": [
    "Test internals. This markdown cell will always be shown."
   ]
  },
  {
   "cell_type": "code",
   "execution_count": null,
   "id": "4af93811",
   "metadata": {},
   "outputs": [],
   "source": [
    "__notebook_basename__ = \"run_if_and_markdown.ipynb\"\n",
    "__notebook_dirname__ = \"\""
   ]
  },
  {
   "cell_type": "code",
   "execution_count": null,
   "id": "7ceaff8d",
   "metadata": {},
   "outputs": [],
   "source": [
    "if \"collapse_True\" in __notebook_dirname__:\n",
    "    assert not nbvalx.jupyter_magics.IPythonExtension.loaded\n",
    "else:\n",
    "    assert nbvalx.jupyter_magics.IPythonExtension.loaded"
   ]
  },
  {
   "cell_type": "code",
   "execution_count": null,
   "id": "9f579330",
   "metadata": {},
   "outputs": [],
   "source": [
    "if nbvalx.jupyter_magics.IPythonExtension.loaded:\n",
    "    assert nbvalx.jupyter_magics.IPythonExtension.current_tags == {\"str_tag\": current_tag}\n",
    "else:\n",
    "    if \"[str_tag=value1]\" in __notebook_basename__:\n",
    "        assert current_tag == \"value1\"\n",
    "    elif \"[str_tag=value2]\" in __notebook_basename__:\n",
    "        assert current_tag == \"value2\"\n",
    "    else:\n",
    "        assert current_tag == \"\"\n",
    "    assert nbvalx.jupyter_magics.IPythonExtension.current_tags == {}"
   ]
  },
  {
   "cell_type": "code",
   "execution_count": null,
   "id": "ddecf198-8f91-40d1-beb2-81e3cc3229d8",
   "metadata": {},
   "outputs": [],
   "source": [
    "def keep_if_statement_generator(value: str) -> str:\n",
    "    \"\"\"Generate the html comment associated to a keep_if statement.\"\"\"\n",
    "    return f'<!-- keep_if str_tag == \\\\\"{value}\\\\\" -->'"
   ]
  },
  {
   "cell_type": "code",
   "execution_count": null,
   "id": "e91c3dac-1078-489c-9bf6-e450dff65448",
   "metadata": {},
   "outputs": [],
   "source": [
    "def keep_if_content_generator(value: str) -> str:\n",
    "    \"\"\"Generate the markdown content below a keep_if statement.\"\"\"\n",
    "    return f\"The next cell sets the value of current_tag to {value}\""
   ]
  },
  {
   "cell_type": "code",
   "execution_count": null,
   "id": "e3f18982-5310-4b11-913e-47fdffda2973",
   "metadata": {},
   "outputs": [],
   "source": [
    "with open(os.path.join(__notebook_dirname__, __notebook_basename__)) as nb:\n",
    "    nb_raw = nb.read()\n",
    "    assert \"Load custom extension\" in nb_raw\n",
    "    assert \"Register tags\" in nb_raw\n",
    "    assert \"Update variable with run_if\" in nb_raw\n",
    "    if \"collapse_True\" in __notebook_dirname__:\n",
    "        if \"[str_tag=value1]\" in __notebook_basename__:\n",
    "            assert keep_if_statement_generator(\"value1\") not in nb_raw\n",
    "            assert keep_if_content_generator(\"value1\") in nb_raw\n",
    "            assert keep_if_statement_generator(\"value2\") not in nb_raw\n",
    "            assert keep_if_content_generator(\"value2\") not in nb_raw\n",
    "        elif \"[str_tag=value2]\" in __notebook_basename__:\n",
    "            assert keep_if_statement_generator(\"value1\") not in nb_raw\n",
    "            assert keep_if_content_generator(\"value1\") not in nb_raw\n",
    "            assert keep_if_statement_generator(\"value2\") not in nb_raw\n",
    "            assert keep_if_content_generator(\"value2\") in nb_raw\n",
    "        else:\n",
    "            assert keep_if_statement_generator(\"value1\") not in nb_raw\n",
    "            assert keep_if_content_generator(\"value1\") not in nb_raw\n",
    "            assert keep_if_statement_generator(\"value2\") not in nb_raw\n",
    "            assert keep_if_content_generator(\"value2\") not in nb_raw\n",
    "    else:\n",
    "        assert keep_if_statement_generator(\"value1\") in nb_raw\n",
    "        assert keep_if_content_generator(\"value1\") in nb_raw\n",
    "        assert keep_if_statement_generator(\"value2\") in nb_raw\n",
    "        assert keep_if_content_generator(\"value2\") in nb_raw\n",
    "    assert \"Test internals\" in nb_raw"
   ]
  }
 ],
 "metadata": {
  "kernelspec": {
   "display_name": "Python 3 (ipykernel)",
   "language": "python",
   "name": "python3"
  },
  "language_info": {
   "codemirror_mode": {
    "name": "ipython"
   },
   "file_extension": ".py",
   "mimetype": "text/x-python",
   "name": "python",
   "nbconvert_exporter": "python"
  }
 },
 "nbformat": 4,
 "nbformat_minor": 5
}
