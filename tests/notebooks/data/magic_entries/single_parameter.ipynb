{
 "cells": [
  {
   "cell_type": "code",
   "execution_count": null,
   "id": "9b2f1e64",
   "metadata": {},
   "outputs": [],
   "source": [
    "import nbvalx"
   ]
  },
  {
   "cell_type": "code",
   "execution_count": null,
   "id": "ac9fa906",
   "metadata": {},
   "outputs": [],
   "source": [
    "%load_ext nbvalx"
   ]
  },
  {
   "cell_type": "code",
   "execution_count": null,
   "id": "129ae24e",
   "metadata": {},
   "outputs": [],
   "source": [
    "%%register_allowed_parameters\n",
    "str_parameter: 'value3', \"value4\""
   ]
  },
  {
   "cell_type": "code",
   "execution_count": null,
   "id": "3ff2d7c9",
   "metadata": {},
   "outputs": [],
   "source": [
    "%%register_current_parameters\n",
    "str_parameter = \"value3\""
   ]
  },
  {
   "cell_type": "code",
   "execution_count": null,
   "id": "4af93811",
   "metadata": {},
   "outputs": [],
   "source": [
    "__notebook_basename__ = \"single_parameter.ipynb\"\n",
    "__notebook_dirname__ = \"\""
   ]
  },
  {
   "cell_type": "code",
   "execution_count": null,
   "id": "7ceaff8d",
   "metadata": {},
   "outputs": [],
   "source": [
    "if \"collapse_True\" in __notebook_dirname__:\n",
    "    assert not nbvalx.jupyter_magics.IPythonExtension.loaded\n",
    "else:\n",
    "    assert nbvalx.jupyter_magics.IPythonExtension.loaded"
   ]
  },
  {
   "cell_type": "code",
   "execution_count": null,
   "id": "9f579330",
   "metadata": {},
   "outputs": [],
   "source": [
    "if nbvalx.jupyter_magics.IPythonExtension.loaded:\n",
    "    assert nbvalx.jupyter_magics.IPythonExtension.current_parameters == {\"str_parameter\": str_parameter}\n",
    "else:\n",
    "    if \"[str_parameter=value3]\" in __notebook_basename__:\n",
    "        assert str_parameter == \"value3\"\n",
    "    elif \"[str_parameter=value4]\" in __notebook_basename__:\n",
    "        assert str_parameter == \"value4\"\n",
    "    else:\n",
    "        assert str_parameter == \"value3\"\n",
    "    assert nbvalx.jupyter_magics.IPythonExtension.current_parameters == {}"
   ]
  }
 ],
 "metadata": {
  "kernelspec": {
   "display_name": "Python 3 (ipykernel)",
   "language": "python",
   "name": "python3"
  },
  "language_info": {
   "codemirror_mode": {
    "name": "ipython"
   },
   "file_extension": ".py",
   "mimetype": "text/x-python",
   "name": "python",
   "nbconvert_exporter": "python"
  }
 },
 "nbformat": 4,
 "nbformat_minor": 5
}
