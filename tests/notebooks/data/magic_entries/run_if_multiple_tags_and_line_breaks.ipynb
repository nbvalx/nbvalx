{
 "cells": [
  {
   "cell_type": "code",
   "execution_count": null,
   "id": "f113208e",
   "metadata": {},
   "outputs": [],
   "source": [
    "import nbvalx"
   ]
  },
  {
   "cell_type": "code",
   "execution_count": null,
   "id": "ac9fa906",
   "metadata": {},
   "outputs": [],
   "source": [
    "%load_ext nbvalx"
   ]
  },
  {
   "cell_type": "code",
   "execution_count": null,
   "id": "129ae24e",
   "metadata": {},
   "outputs": [],
   "source": [
    "%%register_run_if_allowed_tags\n",
    "str_tag: 'value1', \"value2\"\n",
    "int_tag: 1, 2"
   ]
  },
  {
   "cell_type": "code",
   "execution_count": null,
   "id": "3ff2d7c9",
   "metadata": {},
   "outputs": [],
   "source": [
    "%%register_run_if_current_tags\n",
    "str_tag = \"value1\"\n",
    "int_tag = 2"
   ]
  },
  {
   "cell_type": "code",
   "execution_count": null,
   "id": "2bf02d58",
   "metadata": {},
   "outputs": [],
   "source": [
    "comment = \"\""
   ]
  },
  {
   "cell_type": "code",
   "execution_count": null,
   "id": "0762b137",
   "metadata": {},
   "outputs": [],
   "source": [
    "%%run_if \\\n",
    "    str_tag == \"value\" + str(int_tag)\n",
    "comment = \"str_tag and int_tag have some integer\""
   ]
  },
  {
   "cell_type": "code",
   "execution_count": null,
   "id": "4bc5ebda",
   "metadata": {},
   "outputs": [],
   "source": [
    "%%run_if \\\n",
    "    str_tag != \"value\" + str(int_tag)\n",
    "comment = \"str_tag and int_tag have different integer\""
   ]
  },
  {
   "cell_type": "code",
   "execution_count": null,
   "id": "9ee4e110",
   "metadata": {},
   "outputs": [],
   "source": [
    "__notebook_basename__ = \"run_if_multiple_tags_and_line_breaks.ipynb\"\n",
    "__notebook_dirname__ = \"\""
   ]
  },
  {
   "cell_type": "code",
   "execution_count": null,
   "id": "18bdca33",
   "metadata": {},
   "outputs": [],
   "source": [
    "if \"collapse_True\" in __notebook_dirname__:\n",
    "    assert not nbvalx.jupyter_magics.IPythonExtension.loaded\n",
    "else:\n",
    "    assert nbvalx.jupyter_magics.IPythonExtension.loaded"
   ]
  },
  {
   "cell_type": "code",
   "execution_count": null,
   "id": "297adb22",
   "metadata": {},
   "outputs": [],
   "source": [
    "if nbvalx.jupyter_magics.IPythonExtension.loaded:\n",
    "    current_tags = nbvalx.jupyter_magics.IPythonExtension.current_tags\n",
    "    if current_tags[\"str_tag\"][-1] == str(current_tags[\"int_tag\"]):  # type: ignore[index]\n",
    "        assert comment == \"str_tag and int_tag have some integer\"\n",
    "    else:\n",
    "        assert comment == \"str_tag and int_tag have different integer\"\n",
    "else:\n",
    "    if \"[str_tag=value1,int_tag=1]\" in __notebook_basename__ or \"[str_tag=value2,int_tag=2]\" in __notebook_basename__:\n",
    "        assert comment == \"str_tag and int_tag have some integer\"\n",
    "    elif \"[str_tag=value1,int_tag=2]\" in __notebook_basename__ or \"[str_tag=value2,int_tag=1]\" in __notebook_basename__:\n",
    "        assert comment == \"str_tag and int_tag have different integer\"\n",
    "    else:\n",
    "        assert comment == \"\"\n",
    "    assert nbvalx.jupyter_magics.IPythonExtension.current_tags == {}"
   ]
  }
 ],
 "metadata": {
  "kernelspec": {
   "display_name": "Python 3 (ipykernel)",
   "language": "python",
   "name": "python3"
  },
  "language_info": {
   "codemirror_mode": {
    "name": "ipython"
   },
   "file_extension": ".py",
   "mimetype": "text/x-python",
   "name": "python",
   "nbconvert_exporter": "python"
  }
 },
 "nbformat": 4,
 "nbformat_minor": 5
}
