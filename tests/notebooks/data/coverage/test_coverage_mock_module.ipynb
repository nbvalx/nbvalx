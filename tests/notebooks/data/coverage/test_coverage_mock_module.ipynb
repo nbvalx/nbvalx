{
 "cells": [
  {
   "cell_type": "code",
   "execution_count": null,
   "id": "2778dcc5-6a87-44ea-9cf1-dc158bb63426",
   "metadata": {},
   "outputs": [],
   "source": [
    "import coverage_mock_module"
   ]
  },
  {
   "cell_type": "code",
   "execution_count": null,
   "id": "4028b59b-9191-45d8-99c7-d5f9eafb5dc5",
   "metadata": {},
   "outputs": [],
   "source": [
    "assert coverage_mock_module.my_sum(1, 2) == 3"
   ]
  }
 ],
 "metadata": {
  "kernelspec": {
   "display_name": "Python 3 (ipykernel)",
   "language": "python",
   "name": "python3"
  },
  "language_info": {
   "codemirror_mode": {
    "name": "ipython"
   },
   "file_extension": ".py",
   "mimetype": "text/x-python",
   "name": "python",
   "nbconvert_exporter": "python"
  }
 },
 "nbformat": 4,
 "nbformat_minor": 5
}
