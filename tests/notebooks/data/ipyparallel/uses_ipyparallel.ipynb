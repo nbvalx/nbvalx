{
 "cells": [
  {
   "cell_type": "code",
   "execution_count": null,
   "id": "3302b1ae-fde4-450b-ae45-93d430c91173",
   "metadata": {},
   "outputs": [],
   "source": [
    "__notebook_basename__ = \"uses_ipyparallel.ipynb\"\n",
    "__notebook_dirname__ = \"\""
   ]
  },
  {
   "cell_type": "code",
   "execution_count": null,
   "id": "1dfd325f-3fb8-465a-b813-2d78a19597d8",
   "metadata": {},
   "outputs": [],
   "source": [
    "if \"np_1\" not in __notebook_dirname__:\n",
    "    assert False, \"This notebook was never supposed to be executed when providing --np greater than 1\""
   ]
  },
  {
   "cell_type": "code",
   "execution_count": null,
   "id": "8c200be7-6917-4ead-9a90-4d4a04f74e41",
   "metadata": {},
   "outputs": [],
   "source": [
    "import ipyparallel as ipp\n",
    "\n",
    "cluster = ipp.Cluster(engines=\"MPI\", profile=\"mpi\", n=2)\n",
    "cluster.start_and_connect_sync()"
   ]
  },
  {
   "cell_type": "code",
   "execution_count": null,
   "id": "d572a614-7f85-4d35-8857-7e46a724878c",
   "metadata": {},
   "outputs": [],
   "source": [
    "%%px\n",
    "import mpi4py.MPI  # noqa: E402"
   ]
  },
  {
   "cell_type": "code",
   "execution_count": null,
   "id": "4bf73d95-053e-4488-8ec0-4eebad4eadcf",
   "metadata": {},
   "outputs": [],
   "source": [
    "%%px\n",
    "comm_world = mpi4py.MPI.COMM_WORLD\n",
    "print(f\"rank = {comm_world.rank}, size = {comm_world.size}\")"
   ]
  },
  {
   "cell_type": "code",
   "execution_count": null,
   "id": "645dc0ed-b2ee-4a89-b7d8-6de1f5b5562c",
   "metadata": {},
   "outputs": [],
   "source": [
    "cluster.stop_cluster_sync()"
   ]
  }
 ],
 "metadata": {
  "kernelspec": {
   "display_name": "Python 3 (ipykernel)",
   "language": "python",
   "name": "python3"
  },
  "language_info": {
   "codemirror_mode": {
    "name": "ipython"
   },
   "file_extension": ".py",
   "mimetype": "text/x-python",
   "name": "python",
   "nbconvert_exporter": "python"
  }
 },
 "nbformat": 4,
 "nbformat_minor": 5
}
