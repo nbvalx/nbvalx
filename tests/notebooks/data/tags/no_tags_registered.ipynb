{
 "cells": [
  {
   "cell_type": "code",
   "execution_count": null,
   "id": "14cda89f",
   "metadata": {},
   "outputs": [],
   "source": [
    "import nbvalx"
   ]
  },
  {
   "cell_type": "code",
   "execution_count": null,
   "id": "539b1ac3",
   "metadata": {},
   "outputs": [],
   "source": [
    "%load_ext nbvalx"
   ]
  },
  {
   "cell_type": "code",
   "execution_count": null,
   "id": "4ab7ed83",
   "metadata": {},
   "outputs": [],
   "source": [
    "__notebook_basename__ = \"no_tags_registered.ipynb\"\n",
    "__notebook_dirname__ = \"\""
   ]
  },
  {
   "cell_type": "code",
   "execution_count": null,
   "id": "f53080e0",
   "metadata": {},
   "outputs": [],
   "source": [
    "assert nbvalx.jupyter_magics.IPythonExtension.loaded"
   ]
  },
  {
   "cell_type": "code",
   "execution_count": null,
   "id": "462c62f7",
   "metadata": {},
   "outputs": [],
   "source": [
    "assert nbvalx.jupyter_magics.IPythonExtension.allowed_tags == {}"
   ]
  },
  {
   "cell_type": "code",
   "execution_count": null,
   "id": "74f4dddb",
   "metadata": {},
   "outputs": [],
   "source": [
    "assert nbvalx.jupyter_magics.IPythonExtension.current_tags == {}"
   ]
  }
 ],
 "metadata": {
  "kernelspec": {
   "display_name": "Python 3 (ipykernel)",
   "language": "python",
   "name": "python3"
  },
  "language_info": {
   "codemirror_mode": {
    "name": "ipython"
   },
   "file_extension": ".py",
   "mimetype": "text/x-python",
   "name": "python",
   "nbconvert_exporter": "python"
  }
 },
 "nbformat": 4,
 "nbformat_minor": 5
}
