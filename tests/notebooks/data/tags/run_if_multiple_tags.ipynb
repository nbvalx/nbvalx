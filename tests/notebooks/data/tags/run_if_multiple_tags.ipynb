{
 "cells": [
  {
   "cell_type": "code",
   "execution_count": null,
   "id": "f113208e",
   "metadata": {},
   "outputs": [],
   "source": [
    "import nbvalx"
   ]
  },
  {
   "cell_type": "code",
   "execution_count": null,
   "id": "ac9fa906",
   "metadata": {},
   "outputs": [],
   "source": [
    "%load_ext nbvalx"
   ]
  },
  {
   "cell_type": "code",
   "execution_count": null,
   "id": "129ae24e",
   "metadata": {},
   "outputs": [],
   "source": [
    "%register_run_if_allowed_tags tag1, tag2, tag3"
   ]
  },
  {
   "cell_type": "code",
   "execution_count": null,
   "id": "3ff2d7c9",
   "metadata": {},
   "outputs": [],
   "source": [
    "%register_run_if_current_tag tag1"
   ]
  },
  {
   "cell_type": "code",
   "execution_count": null,
   "id": "2bf02d58",
   "metadata": {},
   "outputs": [],
   "source": [
    "run_tags = \"\""
   ]
  },
  {
   "cell_type": "code",
   "execution_count": null,
   "id": "0762b137",
   "metadata": {},
   "outputs": [],
   "source": [
    "%%run_if tag1, tag2\n",
    "run_tags = \"tag1, tag2\""
   ]
  },
  {
   "cell_type": "code",
   "execution_count": null,
   "id": "4bc5ebda",
   "metadata": {},
   "outputs": [],
   "source": [
    "%%run_if tag3\n",
    "run_tags = \"tag3\""
   ]
  },
  {
   "cell_type": "code",
   "execution_count": null,
   "id": "9ee4e110",
   "metadata": {},
   "outputs": [],
   "source": [
    "__notebook_name__ = \"run_if_multiple_tags.ipynb\""
   ]
  },
  {
   "cell_type": "code",
   "execution_count": null,
   "id": "18bdca33",
   "metadata": {},
   "outputs": [],
   "source": [
    "if \"collapse_True\" in __notebook_name__:\n",
    "    assert not nbvalx.jupyter_magics.IPythonExtension.loaded\n",
    "else:\n",
    "    assert nbvalx.jupyter_magics.IPythonExtension.loaded"
   ]
  },
  {
   "cell_type": "code",
   "execution_count": null,
   "id": "297adb22",
   "metadata": {},
   "outputs": [],
   "source": [
    "if nbvalx.jupyter_magics.IPythonExtension.loaded:\n",
    "    assert nbvalx.jupyter_magics.IPythonExtension.current_tag in run_tags\n",
    "else:\n",
    "    if \"[tag1]\" in __notebook_name__ or \"[tag2]\" in __notebook_name__:\n",
    "        assert run_tags == \"tag1, tag2\"\n",
    "    elif \"[tag3]\" in __notebook_name__:\n",
    "        assert run_tags == \"tag3\"\n",
    "    else:\n",
    "        assert run_tags == \"\"\n",
    "    assert nbvalx.jupyter_magics.IPythonExtension.current_tag == \"\""
   ]
  }
 ],
 "metadata": {
  "kernelspec": {
   "display_name": "Python 3 (ipykernel)",
   "language": "python",
   "name": "python3"
  },
  "language_info": {
   "codemirror_mode": {
    "name": "ipython"
   },
   "file_extension": ".py",
   "mimetype": "text/x-python",
   "name": "python",
   "nbconvert_exporter": "python"
  }
 },
 "nbformat": 4,
 "nbformat_minor": 5
}
