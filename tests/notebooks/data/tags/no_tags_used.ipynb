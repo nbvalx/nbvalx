{
 "cells": [
  {
   "cell_type": "code",
   "execution_count": null,
   "id": "ac57659e",
   "metadata": {},
   "outputs": [],
   "source": [
    "import nbvalx"
   ]
  },
  {
   "cell_type": "code",
   "execution_count": null,
   "id": "84449a04",
   "metadata": {},
   "outputs": [],
   "source": [
    "%load_ext nbvalx"
   ]
  },
  {
   "cell_type": "code",
   "execution_count": null,
   "id": "33c0102c",
   "metadata": {},
   "outputs": [],
   "source": [
    "%%register_run_if_allowed_tags\n",
    "tag: 'value1', \"value2\""
   ]
  },
  {
   "cell_type": "code",
   "execution_count": null,
   "id": "5ee01880",
   "metadata": {},
   "outputs": [],
   "source": [
    "%%register_run_if_current_tags\n",
    "tag = \"value1\""
   ]
  },
  {
   "cell_type": "code",
   "execution_count": null,
   "id": "7983e8de",
   "metadata": {},
   "outputs": [],
   "source": [
    "__notebook_basename__ = \"no_tags_used.ipynb\"\n",
    "__notebook_dirname__ = \"\""
   ]
  },
  {
   "cell_type": "code",
   "execution_count": null,
   "id": "ae3e88b5",
   "metadata": {},
   "outputs": [],
   "source": [
    "if \"collapse_True\" in __notebook_dirname__:\n",
    "    assert not nbvalx.jupyter_magics.IPythonExtension.loaded\n",
    "else:\n",
    "    assert nbvalx.jupyter_magics.IPythonExtension.loaded"
   ]
  },
  {
   "cell_type": "code",
   "execution_count": null,
   "id": "5ba43203",
   "metadata": {},
   "outputs": [],
   "source": [
    "if nbvalx.jupyter_magics.IPythonExtension.loaded:\n",
    "    assert nbvalx.jupyter_magics.IPythonExtension.allowed_tags == {\"tag\": [\"value1\", \"value2\"]}\n",
    "else:\n",
    "    assert nbvalx.jupyter_magics.IPythonExtension.allowed_tags == {}"
   ]
  },
  {
   "cell_type": "code",
   "execution_count": null,
   "id": "f8d4f334",
   "metadata": {},
   "outputs": [],
   "source": [
    "if nbvalx.jupyter_magics.IPythonExtension.loaded:\n",
    "    if \"[tag=value1]\" in __notebook_basename__:\n",
    "        assert nbvalx.jupyter_magics.IPythonExtension.current_tags == {\"tag\": \"value1\"}\n",
    "    elif \"[tag=value2]\" in __notebook_basename__:\n",
    "        assert nbvalx.jupyter_magics.IPythonExtension.current_tags == {\"tag\": \"value2\"}\n",
    "    else:\n",
    "        assert nbvalx.jupyter_magics.IPythonExtension.current_tags == {\"tag\": \"value1\"}\n",
    "else:\n",
    "    assert nbvalx.jupyter_magics.IPythonExtension.current_tags == {}"
   ]
  }
 ],
 "metadata": {
  "kernelspec": {
   "display_name": "Python 3 (ipykernel)",
   "language": "python",
   "name": "python3"
  },
  "language_info": {
   "codemirror_mode": {
    "name": "ipython"
   },
   "file_extension": ".py",
   "mimetype": "text/x-python",
   "name": "python",
   "nbconvert_exporter": "python"
  }
 },
 "nbformat": 4,
 "nbformat_minor": 5
}
