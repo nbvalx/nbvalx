{
 "cells": [
  {
   "cell_type": "code",
   "execution_count": null,
   "id": "9b2f1e64",
   "metadata": {},
   "outputs": [],
   "source": [
    "import nbvalx"
   ]
  },
  {
   "cell_type": "code",
   "execution_count": null,
   "id": "ac9fa906",
   "metadata": {},
   "outputs": [],
   "source": [
    "%load_ext nbvalx"
   ]
  },
  {
   "cell_type": "code",
   "execution_count": null,
   "id": "129ae24e",
   "metadata": {},
   "outputs": [],
   "source": [
    "%register_run_if_allowed_tags \\\n",
    "    tag1, \\\n",
    "    tag2"
   ]
  },
  {
   "cell_type": "code",
   "execution_count": null,
   "id": "3ff2d7c9",
   "metadata": {},
   "outputs": [],
   "source": [
    "%register_run_if_current_tag \\\n",
    "    tag1"
   ]
  },
  {
   "cell_type": "code",
   "execution_count": null,
   "id": "03ed92fc",
   "metadata": {},
   "outputs": [],
   "source": [
    "current_tag = \"\""
   ]
  },
  {
   "cell_type": "code",
   "execution_count": null,
   "id": "0762b137",
   "metadata": {},
   "outputs": [],
   "source": [
    "%%run_if \\\n",
    "    tag1\n",
    "current_tag = \"tag1\""
   ]
  },
  {
   "cell_type": "code",
   "execution_count": null,
   "id": "4bc5ebda",
   "metadata": {},
   "outputs": [],
   "source": [
    "%%run_if \\\n",
    "    tag2\n",
    "current_tag = \"tag2\""
   ]
  },
  {
   "cell_type": "code",
   "execution_count": null,
   "id": "4af93811",
   "metadata": {},
   "outputs": [],
   "source": [
    "__notebook_name__ = \"allowed_tags_multiple_lines.ipynb\""
   ]
  },
  {
   "cell_type": "code",
   "execution_count": null,
   "id": "7ceaff8d",
   "metadata": {},
   "outputs": [],
   "source": [
    "if \"collapse_True\" in __notebook_name__:\n",
    "    assert not nbvalx.jupyter_magics.IPythonExtension.loaded\n",
    "else:\n",
    "    assert nbvalx.jupyter_magics.IPythonExtension.loaded"
   ]
  },
  {
   "cell_type": "code",
   "execution_count": null,
   "id": "9f579330",
   "metadata": {},
   "outputs": [],
   "source": [
    "if nbvalx.jupyter_magics.IPythonExtension.loaded:\n",
    "    assert nbvalx.jupyter_magics.IPythonExtension.current_tag == current_tag\n",
    "else:\n",
    "    if \"[tag1]\" in __notebook_name__:\n",
    "        assert current_tag == \"tag1\"\n",
    "    elif \"[tag2]\" in __notebook_name__:\n",
    "        assert current_tag == \"tag2\"\n",
    "    else:\n",
    "        assert current_tag == \"\"\n",
    "    assert nbvalx.jupyter_magics.IPythonExtension.current_tag == \"\""
   ]
  }
 ],
 "metadata": {
  "kernelspec": {
   "display_name": "Python 3 (ipykernel)",
   "language": "python",
   "name": "python3"
  },
  "language_info": {
   "codemirror_mode": {
    "name": "ipython"
   },
   "file_extension": ".py",
   "mimetype": "text/x-python",
   "name": "python",
   "nbconvert_exporter": "python"
  }
 },
 "nbformat": 4,
 "nbformat_minor": 5
}
