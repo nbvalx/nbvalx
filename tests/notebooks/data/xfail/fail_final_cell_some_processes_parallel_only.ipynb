{
 "cells": [
  {
   "cell_type": "code",
   "execution_count": null,
   "id": "3e17662b",
   "metadata": {},
   "outputs": [],
   "source": [
    "import mpi4py.MPI  # noqa: F401, RUF100"
   ]
  },
  {
   "cell_type": "code",
   "execution_count": null,
   "id": "b7b59ee6",
   "metadata": {},
   "outputs": [],
   "source": [
    "# PYTEST_XFAIL: testing failure on some processes in parallel and success in serial.\n",
    "assert mpi4py.MPI.COMM_WORLD.rank == 0"
   ]
  }
 ],
 "metadata": {
  "kernelspec": {
   "display_name": "Python 3 (ipykernel)",
   "language": "python",
   "name": "python3"
  },
  "language_info": {
   "codemirror_mode": {
    "name": "ipython"
   },
   "file_extension": ".py",
   "mimetype": "text/x-python",
   "name": "python",
   "nbconvert_exporter": "python"
  }
 },
 "nbformat": 4,
 "nbformat_minor": 5
}
