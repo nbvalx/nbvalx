{
 "cells": [
  {
   "cell_type": "code",
   "execution_count": null,
   "id": "2263eaec",
   "metadata": {},
   "outputs": [],
   "source": [
    "import mpi4py.MPI  # noqa: F401, RUF100"
   ]
  },
  {
   "cell_type": "code",
   "execution_count": null,
   "id": "c125917b",
   "metadata": {},
   "outputs": [],
   "source": [
    "# PYTEST_XFAIL_AND_SKIP_NEXT: testing failure on all processes.\n",
    "assert mpi4py.MPI.COMM_WORLD.size < 0"
   ]
  },
  {
   "cell_type": "code",
   "execution_count": null,
   "id": "f275bf3a",
   "metadata": {},
   "outputs": [],
   "source": [
    "assert mpi4py.MPI.COMM_WORLD.size < 0, \"This cell should have been skipped due to failure in the previous one\""
   ]
  }
 ],
 "metadata": {
  "kernelspec": {
   "display_name": "Python 3 (ipykernel)",
   "language": "python",
   "name": "python3"
  },
  "language_info": {
   "codemirror_mode": {
    "name": "ipython"
   },
   "file_extension": ".py",
   "mimetype": "text/x-python",
   "name": "python",
   "nbconvert_exporter": "python"
  }
 },
 "nbformat": 4,
 "nbformat_minor": 5
}
