{
 "cells": [
  {
   "cell_type": "code",
   "execution_count": null,
   "id": "8265f0f4",
   "metadata": {},
   "outputs": [],
   "source": [
    "import mpi4py.MPI  # noqa: F401, RUF100"
   ]
  },
  {
   "cell_type": "code",
   "execution_count": null,
   "id": "0d268bf2",
   "metadata": {},
   "outputs": [],
   "source": [
    "# PYTEST_XFAIL_AND_SKIP_NEXT: testing failure on some processes, regardless of the number of ranks.\n",
    "assert mpi4py.MPI.COMM_WORLD.rank == 0 and mpi4py.MPI.COMM_WORLD.size > 1"
   ]
  },
  {
   "cell_type": "code",
   "execution_count": null,
   "id": "7d463bd4",
   "metadata": {},
   "outputs": [],
   "source": [
    "assert mpi4py.MPI.COMM_WORLD.size < 0, \"This cell should have been skipped due to failure in the previous one\""
   ]
  }
 ],
 "metadata": {
  "kernelspec": {
   "display_name": "Python 3 (ipykernel)",
   "language": "python",
   "name": "python3"
  },
  "language_info": {
   "codemirror_mode": {
    "name": "ipython"
   },
   "file_extension": ".py",
   "mimetype": "text/x-python",
   "name": "python",
   "nbconvert_exporter": "python"
  }
 },
 "nbformat": 4,
 "nbformat_minor": 5
}
