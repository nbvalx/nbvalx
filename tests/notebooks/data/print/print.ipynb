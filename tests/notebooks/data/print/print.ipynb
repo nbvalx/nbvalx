{
 "cells": [
  {
   "cell_type": "code",
   "execution_count": null,
   "id": "afc50140",
   "metadata": {},
   "outputs": [],
   "source": [
    "import glob\n",
    "import os\n",
    "import time"
   ]
  },
  {
   "cell_type": "code",
   "execution_count": null,
   "id": "dcd19240",
   "metadata": {},
   "outputs": [],
   "source": [
    "import IPython\n",
    "import mpi4py.MPI"
   ]
  },
  {
   "cell_type": "code",
   "execution_count": null,
   "id": "07fcd163",
   "metadata": {},
   "outputs": [],
   "source": [
    "log_files = list()\n",
    "for f in glob.glob(\"print.log*\"):\n",
    "    log_files.append(f)"
   ]
  },
  {
   "cell_type": "code",
   "execution_count": null,
   "id": "bbcf99eb",
   "metadata": {},
   "outputs": [],
   "source": [
    "if \"PYTEST_CURRENT_TEST\" not in os.environ:\n",
    "    assert len(log_files) == 0\n",
    "else:\n",
    "    assert len(log_files) == mpi4py.MPI.COMM_WORLD.size"
   ]
  },
  {
   "cell_type": "code",
   "execution_count": null,
   "id": "04125484",
   "metadata": {},
   "outputs": [],
   "source": [
    "def assert_string_in_log_files(expected: str) -> None:\n",
    "    \"\"\"Verify that a string is present in the log files.\"\"\"\n",
    "    for log_file in log_files:\n",
    "        with open(log_file, \"r\") as log_file_stream:\n",
    "            assert expected in log_file_stream.read()"
   ]
  },
  {
   "cell_type": "code",
   "execution_count": null,
   "id": "75bea0a2",
   "metadata": {},
   "outputs": [],
   "source": [
    "for _ in range(5):\n",
    "    time.sleep(0.01)\n",
    "    print(\"Hello \" + f\"World! I am rank {mpi4py.MPI.COMM_WORLD.rank}.\")"
   ]
  },
  {
   "cell_type": "code",
   "execution_count": null,
   "id": "9bd117ed",
   "metadata": {},
   "outputs": [],
   "source": [
    "assert_string_in_log_files(\"Hello World!\")"
   ]
  },
  {
   "cell_type": "code",
   "execution_count": null,
   "id": "29640c45",
   "metadata": {},
   "outputs": [],
   "source": [
    "\"Ciao \" + \"Mondo!\""
   ]
  },
  {
   "cell_type": "code",
   "execution_count": null,
   "id": "44dbef22",
   "metadata": {},
   "outputs": [],
   "source": [
    "assert_string_in_log_files(\"Ciao Mondo!\")"
   ]
  },
  {
   "cell_type": "code",
   "execution_count": null,
   "id": "e301ade0",
   "metadata": {},
   "outputs": [],
   "source": [
    "IPython.display.display(\"Bonjour \" + \"le monde!\")  # type: ignore[no-untyped-call]"
   ]
  },
  {
   "cell_type": "code",
   "execution_count": null,
   "id": "a3b4fdbc",
   "metadata": {},
   "outputs": [],
   "source": [
    "assert_string_in_log_files(\"Bonjour le monde!\")"
   ]
  },
  {
   "cell_type": "code",
   "execution_count": null,
   "id": "2d939218",
   "metadata": {},
   "outputs": [],
   "source": [
    "# PYTEST_XFAIL: testing that failure gets correctly appended to log\n",
    "raise RuntimeError(\"Hallo \" + \"Welt!\")"
   ]
  },
  {
   "cell_type": "code",
   "execution_count": null,
   "id": "6d34eaba",
   "metadata": {},
   "outputs": [],
   "source": [
    "assert_string_in_log_files(\"RuntimeError: Hallo Welt!\")"
   ]
  },
  {
   "cell_type": "code",
   "execution_count": null,
   "id": "d2e97ca1",
   "metadata": {},
   "outputs": [],
   "source": [
    "# PYTEST_XFAIL: testing that failure gets correctly appended to log also when another string was written\n",
    "#               to the standard output\n",
    "print(\"¡Hola \" + \"Mundo!\")\n",
    "raise RuntimeError(\"Olá \" + \"Mundo!\")"
   ]
  },
  {
   "cell_type": "code",
   "execution_count": null,
   "id": "ca7bc0bc-b569-48f8-976b-815827637624",
   "metadata": {},
   "outputs": [],
   "source": [
    "assert_string_in_log_files(\"¡Hola Mundo!\")\n",
    "assert_string_in_log_files(\"RuntimeError: Olá Mundo!\")"
   ]
  },
  {
   "cell_type": "code",
   "execution_count": null,
   "metadata": {},
   "outputs": [],
   "source": [
    "print(\"Helo \" + \"Byd!\")  # cell ID was manually removed from this cell"
   ]
  },
  {
   "cell_type": "code",
   "execution_count": null,
   "metadata": {},
   "outputs": [],
   "source": [
    "assert_string_in_log_files(\"Helo Byd!\")"
   ]
  }
 ],
 "metadata": {
  "kernelspec": {
   "display_name": "Python 3 (ipykernel)",
   "language": "python",
   "name": "python3"
  },
  "language_info": {
   "codemirror_mode": {
    "name": "ipython"
   },
   "file_extension": ".py",
   "mimetype": "text/x-python",
   "name": "python",
   "nbconvert_exporter": "python"
  }
 },
 "nbformat": 4,
 "nbformat_minor": 4
}
